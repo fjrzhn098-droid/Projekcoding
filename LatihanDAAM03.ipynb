{
  "nbformat": 4,
  "nbformat_minor": 0,
  "metadata": {
    "colab": {
      "provenance": [],
      "authorship_tag": "ABX9TyOdZsXGw4/UQjiTZtu6uMKj",
      "include_colab_link": true
    },
    "kernelspec": {
      "name": "python3",
      "display_name": "Python 3"
    },
    "language_info": {
      "name": "python"
    }
  },
  "cells": [
    {
      "cell_type": "markdown",
      "metadata": {
        "id": "view-in-github",
        "colab_type": "text"
      },
      "source": [
        "<a href=\"https://colab.research.google.com/github/fjrzhn098-droid/Projekcoding/blob/master/LatihanDAAM03.ipynb\" target=\"_parent\"><img src=\"https://colab.research.google.com/assets/colab-badge.svg\" alt=\"Open In Colab\"/></a>"
      ]
    },
    {
      "cell_type": "code",
      "execution_count": null,
      "metadata": {
        "colab": {
          "base_uri": "https://localhost:8080/"
        },
        "id": "3P133puGs3HK",
        "outputId": "64006c4c-bb68-4aca-a74e-48bd70b4fa05"
      },
      "outputs": [
        {
          "output_type": "stream",
          "name": "stdout",
          "text": [
            "2025-09-15\n",
            "<attribute 'day' of 'datetime.date' objects>\n",
            "2025-09-15\n",
            "['Fajar', '2024071028', 'informatika', 'DAA', datetime.date(2025, 9, 15), 'Universitas Pembangunan Jaya']\n"
          ]
        }
      ],
      "source": [
        "from datetime import date\n",
        "tgl_v1 = date.today()\n",
        "print(tgl_v1)\n",
        "\n",
        "import datetime as vDate\n",
        "hari = vDate.date.day\n",
        "\n",
        "tanggal = vDate.date.today()\n",
        "print(hari)\n",
        "print(tanggal)\n",
        "\n",
        "mahasiswa = [\"Fajar\", \"2024071028\",\"informatika\",\"DAA\", tanggal, \"Universitas Pembangunan Jaya\"]\n",
        "print(mahasiswa)"
      ]
    },
    {
      "cell_type": "code",
      "source": [
        "print(\"NIM \", mahasiswa[1])\n",
        "print(\"kampus \", mahasiswa[5])\n"
      ],
      "metadata": {
        "colab": {
          "base_uri": "https://localhost:8080/"
        },
        "id": "KkX16vDetH-y",
        "outputId": "cf14e422-13b0-40c4-b70a-9f3bda4eae56"
      },
      "execution_count": null,
      "outputs": [
        {
          "output_type": "stream",
          "name": "stdout",
          "text": [
            "NIM  2024071028\n",
            "kampus  Universitas Pembangunan Jaya\n"
          ]
        }
      ]
    },
    {
      "cell_type": "code",
      "source": [
        "#nim saja\n",
        "print(\"NIM \", mahasiswa[1:2])"
      ],
      "metadata": {
        "colab": {
          "base_uri": "https://localhost:8080/"
        },
        "id": "tRVeXHVlv9N9",
        "outputId": "6d0ba266-43b2-4649-87ea-b18d154e40c1"
      },
      "execution_count": null,
      "outputs": [
        {
          "output_type": "stream",
          "name": "stdout",
          "text": [
            "NIM  ['2024071028']\n"
          ]
        }
      ]
    },
    {
      "cell_type": "code",
      "source": [
        "#prodi saja\n",
        "print(\"prodi \", mahasiswa[2:3])"
      ],
      "metadata": {
        "colab": {
          "base_uri": "https://localhost:8080/"
        },
        "id": "O7uilq5AwOej",
        "outputId": "9581f90b-dd0b-4c5d-fbbc-0ce672b867e6"
      },
      "execution_count": null,
      "outputs": [
        {
          "output_type": "stream",
          "name": "stdout",
          "text": [
            "prodi  ['informatika']\n"
          ]
        }
      ]
    },
    {
      "cell_type": "code",
      "source": [
        "#nim dan prodi\n",
        "print(\"NIM & Prodi \", mahasiswa[1:3])"
      ],
      "metadata": {
        "colab": {
          "base_uri": "https://localhost:8080/"
        },
        "id": "ZRcQ5jlWwauU",
        "outputId": "05233c15-ef4e-4ade-fe5d-4c173cc79628"
      },
      "execution_count": null,
      "outputs": [
        {
          "output_type": "stream",
          "name": "stdout",
          "text": [
            "NIM & Prodi  ['2024071028', 'informatika']\n"
          ]
        }
      ]
    },
    {
      "cell_type": "code",
      "source": [
        "#MK dan tanggal\n",
        "print(\"MK dan tanggal \", mahasiswa[3:5])"
      ],
      "metadata": {
        "colab": {
          "base_uri": "https://localhost:8080/"
        },
        "id": "h5O9KGqVxc2N",
        "outputId": "1b480176-53e0-432e-fda1-d7137bbb9eaa"
      },
      "execution_count": null,
      "outputs": [
        {
          "output_type": "stream",
          "name": "stdout",
          "text": [
            "MK dan tanggal  ['DAA', datetime.date(2025, 9, 15)]\n"
          ]
        }
      ]
    },
    {
      "cell_type": "code",
      "source": [
        "UPJ = (\"Universitas\", \"Pembangunan\", \"Jaya\")\n",
        "print(\"Tuple UPJ:\", UPJ)"
      ],
      "metadata": {
        "colab": {
          "base_uri": "https://localhost:8080/"
        },
        "id": "yLZdAOqpV-Yw",
        "outputId": "894bea8c-0725-4730-bc06-8f7cfdbc0cc6"
      },
      "execution_count": 1,
      "outputs": [
        {
          "output_type": "stream",
          "name": "stdout",
          "text": [
            "Tuple UPJ: ('Universitas', 'Pembangunan', 'Jaya')\n"
          ]
        }
      ]
    },
    {
      "cell_type": "code",
      "source": [
        "nested_tuple = (100, (200, 400, 600), 300, (400, 800))\n",
        "print(\"Nested Tuple:\", nested_tuple)"
      ],
      "metadata": {
        "colab": {
          "base_uri": "https://localhost:8080/"
        },
        "id": "UkI_PK6UWMa2",
        "outputId": "32904173-748e-4b27-9409-e6b120c4bd65"
      },
      "execution_count": 2,
      "outputs": [
        {
          "output_type": "stream",
          "name": "stdout",
          "text": [
            "Nested Tuple: (100, (200, 400, 600), 300, (400, 800))\n"
          ]
        }
      ]
    },
    {
      "cell_type": "code",
      "source": [
        "mhs_dict = {\n",
        "    \"Nama\": \"Fajar\",\n",
        "    \"NIM\": \"2024071028\",\n",
        "    \"Prodi\": \"Informatika\",\n",
        "    \"Universitas\": \"UPJ\"\n",
        "}\n",
        "print(\"Dictionary:\", mhs_dict)"
      ],
      "metadata": {
        "colab": {
          "base_uri": "https://localhost:8080/"
        },
        "id": "JL6bgAYtWX0W",
        "outputId": "736d9f56-b3fa-4597-cbb8-3dc914ea4909"
      },
      "execution_count": 3,
      "outputs": [
        {
          "output_type": "stream",
          "name": "stdout",
          "text": [
            "Dictionary: {'Nama': 'Fajar', 'NIM': '2024071028', 'Prodi': 'Informatika', 'Universitas': 'UPJ'}\n"
          ]
        }
      ]
    },
    {
      "cell_type": "code",
      "source": [
        "print(\"Nama:\", mhs_dict[\"Nama\"])\n",
        "print(\"Prodi:\", mhs_dict[\"Prodi\"])"
      ],
      "metadata": {
        "colab": {
          "base_uri": "https://localhost:8080/"
        },
        "id": "5zN2ekXtWbnI",
        "outputId": "b902baf9-aa5c-4e4c-a71e-3532ee4876ae"
      },
      "execution_count": 4,
      "outputs": [
        {
          "output_type": "stream",
          "name": "stdout",
          "text": [
            "Nama: Fajar\n",
            "Prodi: Informatika\n"
          ]
        }
      ]
    },
    {
      "cell_type": "code",
      "source": [
        "warna = {\"red\", \"green\", \"blue\", \"red\"}\n",
        "print(\"Set warna:\", warna)"
      ],
      "metadata": {
        "colab": {
          "base_uri": "https://localhost:8080/"
        },
        "id": "vkY-yRVUWgb9",
        "outputId": "8f2382c3-a758-4534-876e-e6f341eae0bb"
      },
      "execution_count": 5,
      "outputs": [
        {
          "output_type": "stream",
          "name": "stdout",
          "text": [
            "Set warna: {'green', 'red', 'blue'}\n"
          ]
        }
      ]
    },
    {
      "cell_type": "code",
      "source": [
        "import pandas as pd\n",
        "data = {\n",
        "    \"No\": [1, 2, 3],\n",
        "    \"Prodi\": [\"Informatika\", \"Sistem Informasi\", \"Teknik Sipil\"],\n",
        "    \"Mahasiswa\": [50, 55, 40],\n",
        "    \"Laki-laki\": [30, 30, 30],\n",
        "    \"Perempuan\": [20, 25, 10]\n",
        "}\n",
        "mhs = pd.DataFrame(data)\n",
        "print(mhs)\n"
      ],
      "metadata": {
        "colab": {
          "base_uri": "https://localhost:8080/"
        },
        "id": "FXkA9J2YWp5k",
        "outputId": "375da042-72c8-4e9b-fa9c-40782cacd5db"
      },
      "execution_count": 6,
      "outputs": [
        {
          "output_type": "stream",
          "name": "stdout",
          "text": [
            "   No             Prodi  Mahasiswa  Laki-laki  Perempuan\n",
            "0   1       Informatika         50         30         20\n",
            "1   2  Sistem Informasi         55         30         25\n",
            "2   3      Teknik Sipil         40         30         10\n"
          ]
        }
      ]
    },
    {
      "cell_type": "code",
      "source": [
        "import numpy as np\n",
        "\n",
        "matriks = np.array([[100, 200, 300],\n",
        "                    [700, 600, 500],\n",
        "                    [900, 1000, 800]])\n",
        "print(\"Matrix:\\n\", matriks)"
      ],
      "metadata": {
        "colab": {
          "base_uri": "https://localhost:8080/"
        },
        "id": "X6MGg1Q4W1b_",
        "outputId": "acea9677-b6b9-4d0e-c37e-e3ecfa99a7c6"
      },
      "execution_count": 7,
      "outputs": [
        {
          "output_type": "stream",
          "name": "stdout",
          "text": [
            "Matrix:\n",
            " [[ 100  200  300]\n",
            " [ 700  600  500]\n",
            " [ 900 1000  800]]\n"
          ]
        }
      ]
    }
  ]
}